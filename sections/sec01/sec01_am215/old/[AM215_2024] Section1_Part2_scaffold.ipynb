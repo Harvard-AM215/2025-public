{
    "metadata": {
        "kernelspec": {
            "name": "python3",
            "display_name": "Python 3 (ipykernel)",
            "language": "python"
        }
    },
    "nbformat": 4,
    "nbformat_minor": 5,
    "cells": [
        {
            "attachments": {},
            "cell_type": "markdown",
            "metadata": {},
            "source": [
                "# Section 01 - Part 2\n",
                "\n",
                "In this part, you will explore shell scripting and how can you integrate multiple components, without worring about their speicifc languaje.\n",
                "\n",
                "To submit your work, compress all the .sh files and the one generated for the poisson distribution into submission.zip. Submit the compressed file to Gradescope. "
            ]
        },
        {
            "attachments": {},
            "cell_type": "markdown",
            "metadata": {},
            "source": [
                "## Shell scripting\n",
                "\n",
                "### 1. Hello world!\n",
                "\n",
                "As usual, your first task will be to write a bash script to print \"Hello World!\" in the terminal.     \n",
                "    \n",
                "- Define a variable containing the string \"Hello World!\". Hint: Do not put spaces in the definition i.e., var='a'\n",
                "    \n",
                "- Use the function echo to print the variable. You can access its value as $var.\n",
                "\n",
                "- Save the file as 01_HelloWorld.sh\n",
                "\n",
                "- For this exercise, give execution access to the user, and remove any privilege for the group and everyone else. Hint: use the command chmod"
            ]
        },
        {
            "cell_type": "code",
            "execution_count": 0,
            "metadata": {},
            "outputs": [],
            "source": [
                ""
            ]
        },
        {
            "attachments": {},
            "cell_type": "markdown",
            "metadata": {},
            "source": [
                "### 2. Passing arguments\n",
                "\n",
                "Every program can have input arguments. Shell scripting is no different.\n",
                "In this exercise, you have to write a shell script that accepts an arbitrary number of arguments and print them one by one. If the number is greater than three, it should also print to console: \"Too many arguments!\". Save it as 02_print.sh.\n",
                "\n",
                "- Check with an if statement if the number of arguments is larger than three. Hint: The number can be easily accessed by $#. The if statement has the following structure:\n",
                "    \n",
                "        if [ statement ]; then\n",
                "            something\n",
                "        fi\n",
                "\n",
                "- Assign each input argument to a variable and print it. Hint: You can perform a for loop over all the arguments \"$@\". The for loop has the following structure:\n",
                "\n",
                "        for arg in \"$@\"\n",
                "        do\n",
                "            something\n",
                "        done\n",
                "\n",
                "- Save it as 02_print.sh."
            ]
        },
        {
            "cell_type": "code",
            "execution_count": 0,
            "metadata": {},
            "outputs": [],
            "source": [
                ""
            ]
        },
        {
            "attachments": {},
            "cell_type": "markdown",
            "metadata": {},
            "source": [
                "### 3. Integration\n",
                "\n",
                "Now you are ready to use shell scripting to perform similar tasks as in the first part.\n",
                "\n",
                "You have executed a series of Python functions that generated data. Now, you will use programs written in C to generate them, and use Python to create the plots.\n",
                "\n",
                "- Write a shell script that accepts the name of the distribution, 'binomial' or 'possion'. In any other case, print \"Distribution not found\".\n",
                "    \n",
                "- Compile the corresponding C program. Each one accepts the parameter of the distribution, the number of trials and the name of the output file. The output of each program must be output.dat. \n",
                "Hint: Your system should have a built in C compiler, such as gcc.\n",
                "\n",
                "- Give execute options to the user and the group. Remove any permission to everyone else.\n",
                "    \n",
                "- Write a python script that reads the data from a file and writes the plots to plot.png.\n",
                "\n",
                "- Save the shell script as 03_integration.sh\n",
                "    "
            ]
        },
        {
            "cell_type": "code",
            "execution_count": 0,
            "metadata": {},
            "outputs": [],
            "source": [
                ""
            ]
        }
    ]
}
