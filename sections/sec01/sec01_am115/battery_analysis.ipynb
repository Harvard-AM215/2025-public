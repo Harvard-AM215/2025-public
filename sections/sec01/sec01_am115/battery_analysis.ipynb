{
 "cells": [
  {
   "cell_type": "markdown",
   "id": "4d2ccc73",
   "metadata": {},
   "source": [
    "# Section 1: Battery Lifespan Analysis\n",
    "\n",
    "In this MyST notebook, we use Maximum Likelihood Estimation (MLE) to compare two battery brands' lifespans. We'll see how different assumptions about failure mechanisms (random failures vs. aging/wear) lead us to different statistical models and interpretations.\n",
    "\n",
    "## Overview\n",
    "\n",
    "- Problem: Decide which battery brand is the better value given limited lifespan data and different possible failure mechanisms.\n",
    "- Approach: Fit simple parametric models (exponential vs. gamma with shape k=2) using MLE.\n",
    "- Outcome: Compare expected lifespans and cost-per-month to make a recommendation.\n",
    "\n",
    "## Learning Objectives\n",
    "\n",
    "By the end, you should be able to:\n",
    "- Select an appropriate distribution for simple lifetime data (exponential vs. gamma).\n",
    "- Write and maximize a likelihood; compute an analytical MLE for the rate parameter.\n",
    "- Explain the interpretation of parameters and the PDF vs. likelihood distinction.\n",
    "- Use scipy.optimize.minimize with a negative log-likelihood.\n",
    "- Visualize a likelihood function and interpret the MLE.\n",
    "- Make a decision grounded in the model, and reflect on how assumptions change interpretation.\n",
    "\n",
    "## Dataset\n",
    "\n",
    "Two small samples of battery lifespans (in months):\n",
    "- Brand A: 8 observations\n",
    "- Brand B: 6 observations\n",
    "\n",
    "We'll start with basic exploration, then fit models.\n",
    "\n",
    "## Setup"
   ]
  },
  {
   "cell_type": "code",
   "execution_count": null,
   "id": "aa6a1166",
   "metadata": {},
   "outputs": [],
   "source": [
    "import numpy as np\n",
    "import matplotlib.pyplot as plt\n",
    "import scipy.stats as stats\n",
    "from scipy.optimize import minimize\n",
    "\n",
    "# Reproducibility and plotting style\n",
    "np.random.seed(42)\n",
    "plt.rcParams['figure.figsize'] = (10, 6)\n",
    "plt.rcParams['font.size'] = 12"
   ]
  },
  {
   "cell_type": "markdown",
   "id": "e456362f",
   "metadata": {},
   "source": [
    "## Part 1: Load and Explore the Data\n",
    "\n",
    "In this section, load the Brand A/B samples and compute simple summaries to build intuition before modeling."
   ]
  },
  {
   "cell_type": "code",
   "execution_count": null,
   "id": "5fa0b892",
   "metadata": {},
   "outputs": [],
   "source": [
    "# Brand A battery lifespans (months)\n",
    "brand_a_data = np.array([18.2, 24.5, 15.3, 22.1, 28.9, 19.7, 26.3, 21.4])\n",
    "\n",
    "# Brand B battery lifespans (months)\n",
    "brand_b_data = np.array([31.2, 28.7, 35.4, 29.8, 33.1, 30.9])\n",
    "\n",
    "print(\"Brand A\")\n",
    "print(f\"n={len(brand_a_data)}, mean={np.mean(brand_a_data):.2f}, std={np.std(brand_a_data):.2f}\")\n",
    "\n",
    "print(\"Brand B\")\n",
    "print(f\"n={len(brand_b_data)}, mean={np.mean(brand_b_data):.2f}, std={np.std(brand_b_data):.2f}\")"
   ]
  },
  {
   "cell_type": "markdown",
   "id": "17f15307",
   "metadata": {},
   "source": [
    "### Visualize the data\n",
    "\n",
    "Look at the histograms for both brands. Complete the TODO to plot Brand B."
   ]
  },
  {
   "cell_type": "code",
   "execution_count": null,
   "id": "8c5520a0",
   "metadata": {},
   "outputs": [],
   "source": [
    "plt.figure(figsize=(12, 5))\n",
    "\n",
    "# Brand A\n",
    "plt.subplot(1, 2, 1)\n",
    "plt.hist(brand_a_data, bins=6, density=True, alpha=0.7, color='skyblue', edgecolor='black')\n",
    "plt.xlabel('Lifespan (months)')\n",
    "plt.ylabel('Density')\n",
    "plt.title('Brand A Battery Lifespans')\n",
    "plt.grid(True, alpha=0.3)\n",
    "\n",
    "# Brand B\n",
    "plt.subplot(1, 2, 2)\n",
    "# TODO 1: Plot histogram for Brand B (bins=6, density=True, alpha=0.7, use a different color)\n",
    "plt.hist(_____, bins=_____, density=_____, alpha=_____, color='_____', edgecolor='_____')\n",
    "plt.xlabel('Lifespan (months)')\n",
    "plt.ylabel('Density')\n",
    "plt.title('Brand B Battery Lifespans')\n",
    "plt.grid(True, alpha=0.3)\n",
    "\n",
    "plt.tight_layout()\n",
    "plt.show()"
   ]
  },
  {
   "cell_type": "markdown",
   "id": "1386c004",
   "metadata": {},
   "source": [
    "Reflection\n",
    "- Which brand appears to have longer lifespans on average?\n",
    "- Does the variability suggest a simple model might be reasonable?\n",
    "\n",
    "## Part 2: Choose Your Model\n",
    "\n",
    "Assumptions drive model choice:\n",
    "- Exponential: constant failure rate (memoryless), appropriate for random failures that don’t depend on age.\n",
    "- Gamma (k=2): increasing failure rate with age (wear-and-tear), appropriate when aging matters.\n",
    "\n",
    "Set the model below."
   ]
  },
  {
   "cell_type": "code",
   "execution_count": null,
   "id": "b3785f12",
   "metadata": {},
   "outputs": [],
   "source": [
    "# TODO 2: Switch to \"gamma\" to explore an aging/wear model\n",
    "model_type = \"exponential\"  # Options: \"exponential\" or \"gamma\"\n",
    "model_type"
   ]
  },
  {
   "cell_type": "markdown",
   "id": "93730ffd",
   "metadata": {},
   "source": [
    "## Part 3: Calculate the MLE Analytically\n",
    "\n",
    "We estimate the rate parameter lambda for the chosen distribution:\n",
    "- Exponential: $f(t \\mid \\lambda) = \\lambda e^{-\\lambda t}$, MLE $\\hat{\\lambda} = \\frac{n}{\\sum_i t_i}$\n",
    "- Gamma with shape k=2: $f(t \\mid \\lambda) = \\lambda^2 t e^{-\\lambda t}$, MLE $\\hat{\\lambda} = \\frac{2n}{\\sum_i t_i}$"
   ]
  },
  {
   "cell_type": "code",
   "execution_count": null,
   "id": "3919900e",
   "metadata": {},
   "outputs": [],
   "source": [
    "def calculate_mle(data, model=\"exponential\"):\n",
    "    \"\"\"\n",
    "    Calculate the MLE for the chosen distribution.\n",
    "    \n",
    "    Parameters:\n",
    "    data: array of observed lifetimes\n",
    "    model: \"exponential\" or \"gamma\"\n",
    "    \n",
    "    Returns:\n",
    "    param: MLE estimate of rate parameter (lambda)\n",
    "    \"\"\"\n",
    "    n = len(data)\n",
    "    sum_data = np.sum(data)\n",
    "    \n",
    "    if model == \"exponential\":\n",
    "        # TODO 3: Compute lambda_hat = n / sum(t_i)\n",
    "        param = _____\n",
    "    elif model == \"gamma\":\n",
    "        # TODO 4: Compute lambda_hat for gamma(k=2): 2n / sum(t_i)\n",
    "        param = _____\n",
    "    return param\n",
    "\n",
    "# Compute parameters and implied means\n",
    "param_a = calculate_mle(brand_a_data, model_type)\n",
    "param_b = calculate_mle(brand_b_data, model_type)\n",
    "\n",
    "if model_type == \"exponential\":\n",
    "    mean_a = 1 / param_a\n",
    "    mean_b = 1 / param_b\n",
    "else:\n",
    "    mean_a = 2 / param_a\n",
    "    mean_b = 2 / param_b\n",
    "\n",
    "print(f\"lambda_A={param_a:.4f}, mean_A={mean_a:.2f}\")\n",
    "print(f\"lambda_B={param_b:.4f}, mean_B={mean_b:.2f}\")"
   ]
  },
  {
   "cell_type": "markdown",
   "id": "537764c0",
   "metadata": {},
   "source": [
    "Interpretation\n",
    "- The rate parameter lambda controls the typical timescale: larger lambda means shorter lifetimes.\n",
    "- Under gamma(k=2), the mean is $k/\\lambda = 2/\\lambda$, reflecting wear that increases failure rates with age.\n",
    "\n",
    "## Part 3a: Visualize the Likelihood Function\n",
    "\n",
    "We plot the log-likelihood across a range of lambda values and mark the MLE. The MLE maximizes the log-likelihood."
   ]
  },
  {
   "cell_type": "code",
   "execution_count": null,
   "id": "3f1a4ea3",
   "metadata": {},
   "outputs": [],
   "source": [
    "def log_likelihood(param, data, model=\"exponential\"):\n",
    "    \"\"\"Calculate log-likelihood for the chosen distribution.\"\"\"\n",
    "    if param <= 0:\n",
    "        return -np.inf\n",
    "    n = len(data)\n",
    "    sum_data = np.sum(data)\n",
    "    \n",
    "    if model == \"exponential\":\n",
    "        # log L = n*log(lambda) - lambda*sum(t_i)\n",
    "        return n * np.log(param) - param * sum_data\n",
    "    else:  # gamma with shape=2\n",
    "        # log L = 2n*log(lambda) + sum(log t_i) - lambda*sum(t_i)\n",
    "        return 2 * n * np.log(param) + np.sum(np.log(data)) - param * sum_data\n",
    "\n",
    "# Range for visualization (adjust if needed)\n",
    "param_range = np.linspace(0.01, 0.15, 200)\n",
    "log_likes_a = [log_likelihood(p, brand_a_data, model_type) for p in param_range]\n",
    "\n",
    "plt.figure(figsize=(10, 6))\n",
    "plt.plot(param_range, log_likes_a, 'b-', linewidth=2, label='Log-Likelihood')\n",
    "\n",
    "# TODO 5: Add a vertical line at the MLE value (use param_a)\n",
    "plt.axvline(_____, color='red', linestyle='--', linewidth=2, label=f'MLE = {_____:.4f}')\n",
    "\n",
    "plt.xlabel('Parameter (lambda, rate)')\n",
    "plt.ylabel('Log-Likelihood')\n",
    "plt.title(f'Log-Likelihood for Brand A ({model_type} model)')\n",
    "plt.legend()\n",
    "plt.grid(True, alpha=0.3)\n",
    "plt.show()"
   ]
  },
  {
   "cell_type": "markdown",
   "id": "8c29b7e5",
   "metadata": {},
   "source": [
    "What to notice\n",
    "- The peak corresponds to the MLE. How sharp is the peak? Sharper peaks indicate more information in the data about the parameter.\n",
    "\n",
    "## Part 3b: Find MLE using Numerical Optimization\n",
    "\n",
    "We often minimize the negative log-likelihood because optimizers are built for minimization."
   ]
  },
  {
   "cell_type": "code",
   "execution_count": null,
   "id": "af68a406",
   "metadata": {},
   "outputs": [],
   "source": [
    "def neg_log_likelihood(param, data, model=\"exponential\"):\n",
    "    \"\"\"Negative log-likelihood for minimization.\"\"\"\n",
    "    if param <= 0:\n",
    "        return np.inf\n",
    "    # TODO 6: Return -log_likelihood(...) so minimizing equals maximizing log-likelihood\n",
    "    return _____\n",
    "\n",
    "result = minimize(neg_log_likelihood, x0=0.05, args=(brand_a_data, model_type), bounds=[(0.001, 1)])\n",
    "param_mle_numerical = result.x[0]\n",
    "\n",
    "print(f\"Analytical MLE = {param_a:.4f}\")\n",
    "print(f\"Numerical MLE  = {param_mle_numerical:.4f}\")"
   ]
  },
  {
   "cell_type": "markdown",
   "id": "f73782be",
   "metadata": {},
   "source": [
    "## Part 4: Compare Models to Data\n",
    "\n",
    "Overlay the fitted PDF on the histograms to visually assess fit."
   ]
  },
  {
   "cell_type": "code",
   "execution_count": null,
   "id": "747bff09",
   "metadata": {},
   "outputs": [],
   "source": [
    "t_range = np.linspace(0.01, 40, 200)  # avoid zero\n",
    "\n",
    "if model_type == \"exponential\":\n",
    "    pdf_a = param_a * np.exp(-param_a * t_range)\n",
    "    pdf_b = param_b * np.exp(-param_b * t_range)\n",
    "else:  # gamma with shape=2\n",
    "    pdf_a = (param_a**2) * t_range * np.exp(-param_a * t_range)\n",
    "    pdf_b = (param_b**2) * t_range * np.exp(-param_b * t_range)\n",
    "\n",
    "plt.figure(figsize=(12, 5))\n",
    "\n",
    "# Brand A\n",
    "plt.subplot(1, 2, 1)\n",
    "plt.hist(brand_a_data, bins=6, density=True, alpha=0.5, color='skyblue', edgecolor='black', label='Data')\n",
    "plt.plot(t_range, pdf_a, 'b-', linewidth=2, label=f'{model_type.capitalize()} model')\n",
    "plt.xlabel('Lifespan (months)')\n",
    "plt.ylabel('Density')\n",
    "plt.title('Brand A: Data vs Model')\n",
    "plt.legend()\n",
    "plt.grid(True, alpha=0.3)\n",
    "\n",
    "# Brand B\n",
    "plt.subplot(1, 2, 2)\n",
    "plt.hist(brand_b_data, bins=6, density=True, alpha=0.5, color='lightcoral', edgecolor='black', label='Data')\n",
    "# TODO 7: Plot the model PDF for Brand B\n",
    "plt.plot(t_range, _____, 'r-', linewidth=2, label=f'{model_type.capitalize()} model')\n",
    "plt.xlabel('Lifespan (months)')\n",
    "plt.ylabel('Density')\n",
    "plt.title('Brand B: Data vs Model')\n",
    "plt.legend()\n",
    "plt.grid(True, alpha=0.3)\n",
    "\n",
    "plt.tight_layout()\n",
    "plt.show()"
   ]
  },
  {
   "cell_type": "markdown",
   "id": "45f2ac04",
   "metadata": {},
   "source": [
    "Questions\n",
    "- Which model appears to overlay the data better? Does it differ by brand?\n",
    "\n",
    "## Part 5: Make the Decision\n",
    "\n",
    "We'll compute expected lifespans under the chosen model, convert prices to cost-per-month, and pick the better value."
   ]
  },
  {
   "cell_type": "code",
   "execution_count": null,
   "id": "e35f6675",
   "metadata": {},
   "outputs": [],
   "source": [
    "price_a = 45\n",
    "price_b = 65\n",
    "\n",
    "if model_type == \"exponential\":\n",
    "    mean_a = 1 / param_a\n",
    "    mean_b = 1 / param_b\n",
    "else:\n",
    "    mean_a = 2 / param_a\n",
    "    mean_b = 2 / param_b\n",
    "\n",
    "cost_per_month_a = price_a / mean_a\n",
    "# TODO 8: Fill in Brand B cost-per-month\n",
    "cost_per_month_b = _____\n",
    "\n",
    "print(f\"mean_A={mean_a:.2f}, cost_A=${cost_per_month_a:.2f}/month\")\n",
    "print(f\"mean_B={mean_b:.2f}, cost_B=${cost_per_month_b:.2f}/month\")\n",
    "\n",
    "winner = \"A\" if cost_per_month_a < cost_per_month_b else \"B\"\n",
    "print(f\"Winner: Brand {winner}\")"
   ]
  },
  {
   "cell_type": "markdown",
   "id": "e584de80",
   "metadata": {},
   "source": [
    "Interpretation\n",
    "- The “winner” minimizes dollars per month of expected use.\n",
    "- Note how model choice can change the expected mean and thus the decision.\n",
    "\n",
    "## Part 6: Model Comparison (Exponential vs. Gamma)\n",
    "\n",
    "Now compare the decision under both modeling assumptions."
   ]
  },
  {
   "cell_type": "code",
   "execution_count": null,
   "id": "430589af",
   "metadata": {},
   "outputs": [],
   "source": [
    "models = [\"exponential\", \"gamma\"]\n",
    "results = {}\n",
    "\n",
    "for model in models:\n",
    "    pa = calculate_mle(brand_a_data, model)\n",
    "    pb = calculate_mle(brand_b_data, model)\n",
    "    if model == \"exponential\":\n",
    "        ma, mb = 1/pa, 1/pb\n",
    "    else:\n",
    "        ma, mb = 2/pa, 2/pb\n",
    "    ca, cb = 45/ma, 65/mb\n",
    "    results[model] = {\"mean_a\": ma, \"mean_b\": mb, \"cost_a\": ca, \"cost_b\": cb, \"winner\": \"A\" if ca < cb else \"B\"}\n",
    "\n",
    "for model in models:\n",
    "    r = results[model]\n",
    "    print(f\"{model.upper()}: mean_A={r['mean_a']:.1f}, cost_A=${r['cost_a']:.2f}/m | mean_B={r['mean_b']:.1f}, cost_B=${r['cost_b']:.2f}/m | winner={r['winner']}\")"
   ]
  },
  {
   "cell_type": "markdown",
   "id": "cd9537d7",
   "metadata": {},
   "source": [
    "Insight\n",
    "- If the winner is consistent across models, your decision is robust to these assumptions.\n",
    "- If not, you’ve learned that assumptions about failure mechanism materially affect the recommendation.\n",
    "\n",
    "## Model Validation (Synthetic Demonstration)\n",
    "\n",
    "We demonstrate that our MLE procedure recovers known parameters on synthetic data."
   ]
  },
  {
   "cell_type": "code",
   "execution_count": null,
   "id": "e6966fb0",
   "metadata": {},
   "outputs": [],
   "source": [
    "np.random.seed(123)\n",
    "\n",
    "if model_type == \"exponential\":\n",
    "    true_param_a = 0.045\n",
    "    true_param_b = 0.032\n",
    "    test_data_a = np.random.exponential(1/true_param_a, 50)\n",
    "    test_data_b = np.random.exponential(1/true_param_b, 50)\n",
    "else:\n",
    "    true_param_a = 0.09\n",
    "    true_param_b = 0.064\n",
    "    test_data_a = np.random.gamma(2, 1/true_param_a, 50)\n",
    "    test_data_b = np.random.gamma(2, 1/true_param_b, 50)\n",
    "\n",
    "test_param_a = calculate_mle(test_data_a, model_type)\n",
    "test_param_b = calculate_mle(test_data_b, model_type)\n",
    "\n",
    "print(f\"True_A={true_param_a:.4f}, Est_A={test_param_a:.4f}\")\n",
    "print(f\"True_B={true_param_b:.4f}, Est_B={test_param_b:.4f}\")"
   ]
  },
  {
   "cell_type": "markdown",
   "id": "85498988",
   "metadata": {},
   "source": [
    "## Summary\n",
    "\n",
    "- We modeled battery lifespans using exponential (random failures) and gamma k=2 (aging/wear).\n",
    "- We derived and computed MLEs, visualized the likelihood, and confirmed with numerical optimization.\n",
    "- We translated model parameters into expected lifespans and cost-per-month to make a decision.\n",
    "- We compared decisions across models to assess robustness.\n",
    "\n",
    "### Learning Objectives Review\n",
    "\n",
    "- [x] Identify an appropriate distribution for simple lifetime data.\n",
    "- [x] Write and maximize a likelihood; compute analytical MLE.\n",
    "- [x] Explain parameter interpretation and PDF vs. likelihood.\n",
    "- [x] Use scipy.optimize.minimize on negative log-likelihood.\n",
    "- [x] Visualize likelihood and interpret the MLE.\n",
    "- [x] Make a model-informed decision and examine the role of assumptions.\n",
    "\n",
    "### Reflection\n",
    "\n",
    "- What observable features might suggest wear (gamma) over memoryless failures (exponential)?\n",
    "- How might censored or truncated data change the MLE and interpretation?\n",
    "- If you had more data, what diagnostics would you add (e.g., QQ-plots, AIC/BIC)?"
   ]
  }
 ],
 "metadata": {
  "jupytext": {
   "default_lexer": "ipython3"
  },
  "kernelspec": {
   "display_name": "Python 3",
   "language": "python",
   "name": "python3"
  }
 },
 "nbformat": 4,
 "nbformat_minor": 5
}
